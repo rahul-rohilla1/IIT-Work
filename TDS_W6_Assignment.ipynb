{
  "nbformat": 4,
  "nbformat_minor": 0,
  "metadata": {
    "colab": {
      "name": "TDS W6 Assignment",
      "provenance": [],
      "collapsed_sections": [],
      "include_colab_link": true
    },
    "kernelspec": {
      "name": "python3",
      "display_name": "Python 3"
    },
    "language_info": {
      "name": "python"
    }
  },
  "cells": [
    {
      "cell_type": "markdown",
      "metadata": {
        "id": "view-in-github",
        "colab_type": "text"
      },
      "source": [
        "<a href=\"https://colab.research.google.com/github/rahul-rohilla1/IIT-Work/blob/main/TDS_W6_Assignment.ipynb\" target=\"_parent\"><img src=\"https://colab.research.google.com/assets/colab-badge.svg\" alt=\"Open In Colab\"/></a>"
      ]
    },
    {
      "cell_type": "markdown",
      "source": [
        "## Import and Data Loading"
      ],
      "metadata": {
        "id": "vTLROXy171BQ"
      }
    },
    {
      "cell_type": "code",
      "execution_count": null,
      "metadata": {
        "id": "YEBAjgSyop7Y"
      },
      "outputs": [],
      "source": [
        "import pandas as pd\n",
        "import numpy as np\n",
        "from itertools import permutations"
      ]
    },
    {
      "cell_type": "markdown",
      "source": [
        "The following dataset I used can be found [here](https://data.world/adrianmcmahon/imdb-dataset-all-indian-movies)\n",
        "\n",
        "After further preprocessing such as:\n",
        "- removing unnecessary columns\n",
        "- removing the rows with Year missing\n",
        "- considering only the movies released >= 2005\n",
        "\n",
        "\n",
        " **You get the following dataset:**\n"
      ],
      "metadata": {
        "id": "x3yUhvhy4lUB"
      }
    },
    {
      "cell_type": "code",
      "source": [
        "# Cleaned Data\n",
        "!gdown 1iF1HSol0S2Wc81ifHCDv4ylsIM89dXMv"
      ],
      "metadata": {
        "colab": {
          "base_uri": "https://localhost:8080/"
        },
        "id": "gVTLgVX_tO4M",
        "outputId": "8229ed52-246c-4205-f7c8-bdc2b2d1adda"
      },
      "execution_count": null,
      "outputs": [
        {
          "output_type": "stream",
          "name": "stdout",
          "text": [
            "Downloading...\n",
            "From: https://drive.google.com/uc?id=1iF1HSol0S2Wc81ifHCDv4ylsIM89dXMv\n",
            "To: /content/Bollywood_Movies_Cleaned.csv\n",
            "\r  0% 0.00/255k [00:00<?, ?B/s]\r100% 255k/255k [00:00<00:00, 101MB/s]\n"
          ]
        }
      ]
    },
    {
      "cell_type": "code",
      "source": [
        "# Paste your dataset path here.\n",
        "df = pd.read_csv(r\"/content/Bollywood_Movies_Cleaned.csv\")\n",
        "df.drop_duplicates(inplace=True)\n",
        "df"
      ],
      "metadata": {
        "colab": {
          "base_uri": "https://localhost:8080/",
          "height": 424
        },
        "id": "vnbRocuyozI5",
        "outputId": "f7675667-8947-41d4-88d8-ddda6ef3ae03"
      },
      "execution_count": null,
      "outputs": [
        {
          "output_type": "execute_result",
          "data": {
            "text/plain": [
              "                                    Name  Year           Actor1  \\\n",
              "0     #Gadhvi (He thought he was Gandhi)  2019     Rasika Dugal   \n",
              "1                            #Homecoming  2021     Sayani Gupta   \n",
              "2                                #Yaaram  2019          Prateik   \n",
              "3                      ...And Once Again  2010     Rajat Kapoor   \n",
              "4                              ...Yahaan  2005  Jimmy Sheirgill   \n",
              "...                                  ...   ...              ...   \n",
              "4088                               Zinga  2021          Sri Ram   \n",
              "4089                            Zokkomon  2011  Darsheel Safary   \n",
              "4090                                 Zoo  2018   Shashank Arora   \n",
              "4091              Zor Lagaa Ke... Haiya!  2009    Meghan Jadhav   \n",
              "4092                              Zubaan  2015    Vicky Kaushal   \n",
              "\n",
              "                  Actor2             Actor3  \n",
              "0         Vivek Ghamande      Arvind Jangid  \n",
              "1      Plabita Borthakur         Roy Angana  \n",
              "2             Ishita Raj    Siddhant Kapoor  \n",
              "3     Rituparna Sengupta        Antara Mali  \n",
              "4         Minissha Lamba     Yashpal Sharma  \n",
              "...                  ...                ...  \n",
              "4088       Devan Sanjeev  Kasu Naveen Kumar  \n",
              "4089         Anupam Kher    Manjari Fadnnis  \n",
              "4090       Prince Daniel    Shatakshi Gupta  \n",
              "4091  Mithun Chakraborty           Riya Sen  \n",
              "4092     Sarah Jane Dias   Raaghavv Chanana  \n",
              "\n",
              "[4090 rows x 5 columns]"
            ],
            "text/html": [
              "\n",
              "  <div id=\"df-d791aab5-de51-4765-a3a6-98834a37f8e8\">\n",
              "    <div class=\"colab-df-container\">\n",
              "      <div>\n",
              "<style scoped>\n",
              "    .dataframe tbody tr th:only-of-type {\n",
              "        vertical-align: middle;\n",
              "    }\n",
              "\n",
              "    .dataframe tbody tr th {\n",
              "        vertical-align: top;\n",
              "    }\n",
              "\n",
              "    .dataframe thead th {\n",
              "        text-align: right;\n",
              "    }\n",
              "</style>\n",
              "<table border=\"1\" class=\"dataframe\">\n",
              "  <thead>\n",
              "    <tr style=\"text-align: right;\">\n",
              "      <th></th>\n",
              "      <th>Name</th>\n",
              "      <th>Year</th>\n",
              "      <th>Actor1</th>\n",
              "      <th>Actor2</th>\n",
              "      <th>Actor3</th>\n",
              "    </tr>\n",
              "  </thead>\n",
              "  <tbody>\n",
              "    <tr>\n",
              "      <th>0</th>\n",
              "      <td>#Gadhvi (He thought he was Gandhi)</td>\n",
              "      <td>2019</td>\n",
              "      <td>Rasika Dugal</td>\n",
              "      <td>Vivek Ghamande</td>\n",
              "      <td>Arvind Jangid</td>\n",
              "    </tr>\n",
              "    <tr>\n",
              "      <th>1</th>\n",
              "      <td>#Homecoming</td>\n",
              "      <td>2021</td>\n",
              "      <td>Sayani Gupta</td>\n",
              "      <td>Plabita Borthakur</td>\n",
              "      <td>Roy Angana</td>\n",
              "    </tr>\n",
              "    <tr>\n",
              "      <th>2</th>\n",
              "      <td>#Yaaram</td>\n",
              "      <td>2019</td>\n",
              "      <td>Prateik</td>\n",
              "      <td>Ishita Raj</td>\n",
              "      <td>Siddhant Kapoor</td>\n",
              "    </tr>\n",
              "    <tr>\n",
              "      <th>3</th>\n",
              "      <td>...And Once Again</td>\n",
              "      <td>2010</td>\n",
              "      <td>Rajat Kapoor</td>\n",
              "      <td>Rituparna Sengupta</td>\n",
              "      <td>Antara Mali</td>\n",
              "    </tr>\n",
              "    <tr>\n",
              "      <th>4</th>\n",
              "      <td>...Yahaan</td>\n",
              "      <td>2005</td>\n",
              "      <td>Jimmy Sheirgill</td>\n",
              "      <td>Minissha Lamba</td>\n",
              "      <td>Yashpal Sharma</td>\n",
              "    </tr>\n",
              "    <tr>\n",
              "      <th>...</th>\n",
              "      <td>...</td>\n",
              "      <td>...</td>\n",
              "      <td>...</td>\n",
              "      <td>...</td>\n",
              "      <td>...</td>\n",
              "    </tr>\n",
              "    <tr>\n",
              "      <th>4088</th>\n",
              "      <td>Zinga</td>\n",
              "      <td>2021</td>\n",
              "      <td>Sri Ram</td>\n",
              "      <td>Devan Sanjeev</td>\n",
              "      <td>Kasu Naveen Kumar</td>\n",
              "    </tr>\n",
              "    <tr>\n",
              "      <th>4089</th>\n",
              "      <td>Zokkomon</td>\n",
              "      <td>2011</td>\n",
              "      <td>Darsheel Safary</td>\n",
              "      <td>Anupam Kher</td>\n",
              "      <td>Manjari Fadnnis</td>\n",
              "    </tr>\n",
              "    <tr>\n",
              "      <th>4090</th>\n",
              "      <td>Zoo</td>\n",
              "      <td>2018</td>\n",
              "      <td>Shashank Arora</td>\n",
              "      <td>Prince Daniel</td>\n",
              "      <td>Shatakshi Gupta</td>\n",
              "    </tr>\n",
              "    <tr>\n",
              "      <th>4091</th>\n",
              "      <td>Zor Lagaa Ke... Haiya!</td>\n",
              "      <td>2009</td>\n",
              "      <td>Meghan Jadhav</td>\n",
              "      <td>Mithun Chakraborty</td>\n",
              "      <td>Riya Sen</td>\n",
              "    </tr>\n",
              "    <tr>\n",
              "      <th>4092</th>\n",
              "      <td>Zubaan</td>\n",
              "      <td>2015</td>\n",
              "      <td>Vicky Kaushal</td>\n",
              "      <td>Sarah Jane Dias</td>\n",
              "      <td>Raaghavv Chanana</td>\n",
              "    </tr>\n",
              "  </tbody>\n",
              "</table>\n",
              "<p>4090 rows × 5 columns</p>\n",
              "</div>\n",
              "      <button class=\"colab-df-convert\" onclick=\"convertToInteractive('df-d791aab5-de51-4765-a3a6-98834a37f8e8')\"\n",
              "              title=\"Convert this dataframe to an interactive table.\"\n",
              "              style=\"display:none;\">\n",
              "        \n",
              "  <svg xmlns=\"http://www.w3.org/2000/svg\" height=\"24px\"viewBox=\"0 0 24 24\"\n",
              "       width=\"24px\">\n",
              "    <path d=\"M0 0h24v24H0V0z\" fill=\"none\"/>\n",
              "    <path d=\"M18.56 5.44l.94 2.06.94-2.06 2.06-.94-2.06-.94-.94-2.06-.94 2.06-2.06.94zm-11 1L8.5 8.5l.94-2.06 2.06-.94-2.06-.94L8.5 2.5l-.94 2.06-2.06.94zm10 10l.94 2.06.94-2.06 2.06-.94-2.06-.94-.94-2.06-.94 2.06-2.06.94z\"/><path d=\"M17.41 7.96l-1.37-1.37c-.4-.4-.92-.59-1.43-.59-.52 0-1.04.2-1.43.59L10.3 9.45l-7.72 7.72c-.78.78-.78 2.05 0 2.83L4 21.41c.39.39.9.59 1.41.59.51 0 1.02-.2 1.41-.59l7.78-7.78 2.81-2.81c.8-.78.8-2.07 0-2.86zM5.41 20L4 18.59l7.72-7.72 1.47 1.35L5.41 20z\"/>\n",
              "  </svg>\n",
              "      </button>\n",
              "      \n",
              "  <style>\n",
              "    .colab-df-container {\n",
              "      display:flex;\n",
              "      flex-wrap:wrap;\n",
              "      gap: 12px;\n",
              "    }\n",
              "\n",
              "    .colab-df-convert {\n",
              "      background-color: #E8F0FE;\n",
              "      border: none;\n",
              "      border-radius: 50%;\n",
              "      cursor: pointer;\n",
              "      display: none;\n",
              "      fill: #1967D2;\n",
              "      height: 32px;\n",
              "      padding: 0 0 0 0;\n",
              "      width: 32px;\n",
              "    }\n",
              "\n",
              "    .colab-df-convert:hover {\n",
              "      background-color: #E2EBFA;\n",
              "      box-shadow: 0px 1px 2px rgba(60, 64, 67, 0.3), 0px 1px 3px 1px rgba(60, 64, 67, 0.15);\n",
              "      fill: #174EA6;\n",
              "    }\n",
              "\n",
              "    [theme=dark] .colab-df-convert {\n",
              "      background-color: #3B4455;\n",
              "      fill: #D2E3FC;\n",
              "    }\n",
              "\n",
              "    [theme=dark] .colab-df-convert:hover {\n",
              "      background-color: #434B5C;\n",
              "      box-shadow: 0px 1px 3px 1px rgba(0, 0, 0, 0.15);\n",
              "      filter: drop-shadow(0px 1px 2px rgba(0, 0, 0, 0.3));\n",
              "      fill: #FFFFFF;\n",
              "    }\n",
              "  </style>\n",
              "\n",
              "      <script>\n",
              "        const buttonEl =\n",
              "          document.querySelector('#df-d791aab5-de51-4765-a3a6-98834a37f8e8 button.colab-df-convert');\n",
              "        buttonEl.style.display =\n",
              "          google.colab.kernel.accessAllowed ? 'block' : 'none';\n",
              "\n",
              "        async function convertToInteractive(key) {\n",
              "          const element = document.querySelector('#df-d791aab5-de51-4765-a3a6-98834a37f8e8');\n",
              "          const dataTable =\n",
              "            await google.colab.kernel.invokeFunction('convertToInteractive',\n",
              "                                                     [key], {});\n",
              "          if (!dataTable) return;\n",
              "\n",
              "          const docLinkHtml = 'Like what you see? Visit the ' +\n",
              "            '<a target=\"_blank\" href=https://colab.research.google.com/notebooks/data_table.ipynb>data table notebook</a>'\n",
              "            + ' to learn more about interactive tables.';\n",
              "          element.innerHTML = '';\n",
              "          dataTable['output_type'] = 'display_data';\n",
              "          await google.colab.output.renderOutput(dataTable, element);\n",
              "          const docLink = document.createElement('div');\n",
              "          docLink.innerHTML = docLinkHtml;\n",
              "          element.appendChild(docLink);\n",
              "        }\n",
              "      </script>\n",
              "    </div>\n",
              "  </div>\n",
              "  "
            ]
          },
          "metadata": {},
          "execution_count": 5
        }
      ]
    },
    {
      "cell_type": "markdown",
      "source": [
        "## Permutation of Actors"
      ],
      "metadata": {
        "id": "LCJ_AXue7Zv9"
      }
    },
    {
      "cell_type": "markdown",
      "source": [
        "Now, Actor1, Actor2, Actor3 are **directly linked** to each other since they have worked together in a movie. \n",
        "\n",
        "What we need is a **permutation** of directly linked actors (worked together). For each movie, if we have 3 actors, **<sup>3</sup>P<sub>2</sub> = 6**.\n",
        "\n",
        "Hence, we will have 6 entries for each movies to establish a connection, considering that each movie has 3 actors"
      ],
      "metadata": {
        "id": "IsL7kfXl5LFB"
      }
    },
    {
      "cell_type": "code",
      "source": [
        "all_permutations = []\n",
        "for row in df.itertuples():\n",
        "    # film_actors consist of [Actor1, Actor2, Actor3]\n",
        "    film_actors = list(row)[3:6]\n",
        "    # Taking 3P2 permutation of actors\n",
        "    movie_actors_perm = permutations(film_actors, 2)\n",
        "    all_permutations += movie_actors_perm\n",
        "all_permutations[:10]"
      ],
      "metadata": {
        "colab": {
          "base_uri": "https://localhost:8080/"
        },
        "id": "8IaS5ra4o54g",
        "outputId": "51e31296-a64c-4893-81fd-73e5ceaa6c42"
      },
      "execution_count": null,
      "outputs": [
        {
          "output_type": "execute_result",
          "data": {
            "text/plain": [
              "[('Rasika Dugal', 'Vivek Ghamande'),\n",
              " ('Rasika Dugal', 'Arvind Jangid'),\n",
              " ('Vivek Ghamande', 'Rasika Dugal'),\n",
              " ('Vivek Ghamande', 'Arvind Jangid'),\n",
              " ('Arvind Jangid', 'Rasika Dugal'),\n",
              " ('Arvind Jangid', 'Vivek Ghamande'),\n",
              " ('Sayani Gupta', 'Plabita Borthakur'),\n",
              " ('Sayani Gupta', 'Roy Angana'),\n",
              " ('Plabita Borthakur', 'Sayani Gupta'),\n",
              " ('Plabita Borthakur', 'Roy Angana')]"
            ]
          },
          "metadata": {},
          "execution_count": 4
        }
      ]
    },
    {
      "cell_type": "code",
      "source": [
        "connections = pd.DataFrame(all_permutations, columns=['From', 'To'])"
      ],
      "metadata": {
        "id": "Q2eM35GfrH6n"
      },
      "execution_count": null,
      "outputs": []
    },
    {
      "cell_type": "code",
      "source": [
        "connections"
      ],
      "metadata": {
        "colab": {
          "base_uri": "https://localhost:8080/",
          "height": 424
        },
        "id": "kdZFcInx3DZ3",
        "outputId": "7f576e08-fcdd-44ed-8932-e7fe1bfe7774"
      },
      "execution_count": null,
      "outputs": [
        {
          "output_type": "execute_result",
          "data": {
            "text/plain": [
              "                   From                To\n",
              "0          Rasika Dugal    Vivek Ghamande\n",
              "1          Rasika Dugal     Arvind Jangid\n",
              "2        Vivek Ghamande      Rasika Dugal\n",
              "3        Vivek Ghamande     Arvind Jangid\n",
              "4         Arvind Jangid      Rasika Dugal\n",
              "...                 ...               ...\n",
              "24553     Vicky Kaushal  Raaghavv Chanana\n",
              "24554   Sarah Jane Dias     Vicky Kaushal\n",
              "24555   Sarah Jane Dias  Raaghavv Chanana\n",
              "24556  Raaghavv Chanana     Vicky Kaushal\n",
              "24557  Raaghavv Chanana   Sarah Jane Dias\n",
              "\n",
              "[24558 rows x 2 columns]"
            ],
            "text/html": [
              "\n",
              "  <div id=\"df-df6b44ca-6a10-4ef8-ae06-c0cda6c1f56d\">\n",
              "    <div class=\"colab-df-container\">\n",
              "      <div>\n",
              "<style scoped>\n",
              "    .dataframe tbody tr th:only-of-type {\n",
              "        vertical-align: middle;\n",
              "    }\n",
              "\n",
              "    .dataframe tbody tr th {\n",
              "        vertical-align: top;\n",
              "    }\n",
              "\n",
              "    .dataframe thead th {\n",
              "        text-align: right;\n",
              "    }\n",
              "</style>\n",
              "<table border=\"1\" class=\"dataframe\">\n",
              "  <thead>\n",
              "    <tr style=\"text-align: right;\">\n",
              "      <th></th>\n",
              "      <th>From</th>\n",
              "      <th>To</th>\n",
              "    </tr>\n",
              "  </thead>\n",
              "  <tbody>\n",
              "    <tr>\n",
              "      <th>0</th>\n",
              "      <td>Rasika Dugal</td>\n",
              "      <td>Vivek Ghamande</td>\n",
              "    </tr>\n",
              "    <tr>\n",
              "      <th>1</th>\n",
              "      <td>Rasika Dugal</td>\n",
              "      <td>Arvind Jangid</td>\n",
              "    </tr>\n",
              "    <tr>\n",
              "      <th>2</th>\n",
              "      <td>Vivek Ghamande</td>\n",
              "      <td>Rasika Dugal</td>\n",
              "    </tr>\n",
              "    <tr>\n",
              "      <th>3</th>\n",
              "      <td>Vivek Ghamande</td>\n",
              "      <td>Arvind Jangid</td>\n",
              "    </tr>\n",
              "    <tr>\n",
              "      <th>4</th>\n",
              "      <td>Arvind Jangid</td>\n",
              "      <td>Rasika Dugal</td>\n",
              "    </tr>\n",
              "    <tr>\n",
              "      <th>...</th>\n",
              "      <td>...</td>\n",
              "      <td>...</td>\n",
              "    </tr>\n",
              "    <tr>\n",
              "      <th>24553</th>\n",
              "      <td>Vicky Kaushal</td>\n",
              "      <td>Raaghavv Chanana</td>\n",
              "    </tr>\n",
              "    <tr>\n",
              "      <th>24554</th>\n",
              "      <td>Sarah Jane Dias</td>\n",
              "      <td>Vicky Kaushal</td>\n",
              "    </tr>\n",
              "    <tr>\n",
              "      <th>24555</th>\n",
              "      <td>Sarah Jane Dias</td>\n",
              "      <td>Raaghavv Chanana</td>\n",
              "    </tr>\n",
              "    <tr>\n",
              "      <th>24556</th>\n",
              "      <td>Raaghavv Chanana</td>\n",
              "      <td>Vicky Kaushal</td>\n",
              "    </tr>\n",
              "    <tr>\n",
              "      <th>24557</th>\n",
              "      <td>Raaghavv Chanana</td>\n",
              "      <td>Sarah Jane Dias</td>\n",
              "    </tr>\n",
              "  </tbody>\n",
              "</table>\n",
              "<p>24558 rows × 2 columns</p>\n",
              "</div>\n",
              "      <button class=\"colab-df-convert\" onclick=\"convertToInteractive('df-df6b44ca-6a10-4ef8-ae06-c0cda6c1f56d')\"\n",
              "              title=\"Convert this dataframe to an interactive table.\"\n",
              "              style=\"display:none;\">\n",
              "        \n",
              "  <svg xmlns=\"http://www.w3.org/2000/svg\" height=\"24px\"viewBox=\"0 0 24 24\"\n",
              "       width=\"24px\">\n",
              "    <path d=\"M0 0h24v24H0V0z\" fill=\"none\"/>\n",
              "    <path d=\"M18.56 5.44l.94 2.06.94-2.06 2.06-.94-2.06-.94-.94-2.06-.94 2.06-2.06.94zm-11 1L8.5 8.5l.94-2.06 2.06-.94-2.06-.94L8.5 2.5l-.94 2.06-2.06.94zm10 10l.94 2.06.94-2.06 2.06-.94-2.06-.94-.94-2.06-.94 2.06-2.06.94z\"/><path d=\"M17.41 7.96l-1.37-1.37c-.4-.4-.92-.59-1.43-.59-.52 0-1.04.2-1.43.59L10.3 9.45l-7.72 7.72c-.78.78-.78 2.05 0 2.83L4 21.41c.39.39.9.59 1.41.59.51 0 1.02-.2 1.41-.59l7.78-7.78 2.81-2.81c.8-.78.8-2.07 0-2.86zM5.41 20L4 18.59l7.72-7.72 1.47 1.35L5.41 20z\"/>\n",
              "  </svg>\n",
              "      </button>\n",
              "      \n",
              "  <style>\n",
              "    .colab-df-container {\n",
              "      display:flex;\n",
              "      flex-wrap:wrap;\n",
              "      gap: 12px;\n",
              "    }\n",
              "\n",
              "    .colab-df-convert {\n",
              "      background-color: #E8F0FE;\n",
              "      border: none;\n",
              "      border-radius: 50%;\n",
              "      cursor: pointer;\n",
              "      display: none;\n",
              "      fill: #1967D2;\n",
              "      height: 32px;\n",
              "      padding: 0 0 0 0;\n",
              "      width: 32px;\n",
              "    }\n",
              "\n",
              "    .colab-df-convert:hover {\n",
              "      background-color: #E2EBFA;\n",
              "      box-shadow: 0px 1px 2px rgba(60, 64, 67, 0.3), 0px 1px 3px 1px rgba(60, 64, 67, 0.15);\n",
              "      fill: #174EA6;\n",
              "    }\n",
              "\n",
              "    [theme=dark] .colab-df-convert {\n",
              "      background-color: #3B4455;\n",
              "      fill: #D2E3FC;\n",
              "    }\n",
              "\n",
              "    [theme=dark] .colab-df-convert:hover {\n",
              "      background-color: #434B5C;\n",
              "      box-shadow: 0px 1px 3px 1px rgba(0, 0, 0, 0.15);\n",
              "      filter: drop-shadow(0px 1px 2px rgba(0, 0, 0, 0.3));\n",
              "      fill: #FFFFFF;\n",
              "    }\n",
              "  </style>\n",
              "\n",
              "      <script>\n",
              "        const buttonEl =\n",
              "          document.querySelector('#df-df6b44ca-6a10-4ef8-ae06-c0cda6c1f56d button.colab-df-convert');\n",
              "        buttonEl.style.display =\n",
              "          google.colab.kernel.accessAllowed ? 'block' : 'none';\n",
              "\n",
              "        async function convertToInteractive(key) {\n",
              "          const element = document.querySelector('#df-df6b44ca-6a10-4ef8-ae06-c0cda6c1f56d');\n",
              "          const dataTable =\n",
              "            await google.colab.kernel.invokeFunction('convertToInteractive',\n",
              "                                                     [key], {});\n",
              "          if (!dataTable) return;\n",
              "\n",
              "          const docLinkHtml = 'Like what you see? Visit the ' +\n",
              "            '<a target=\"_blank\" href=https://colab.research.google.com/notebooks/data_table.ipynb>data table notebook</a>'\n",
              "            + ' to learn more about interactive tables.';\n",
              "          element.innerHTML = '';\n",
              "          dataTable['output_type'] = 'display_data';\n",
              "          await google.colab.output.renderOutput(dataTable, element);\n",
              "          const docLink = document.createElement('div');\n",
              "          docLink.innerHTML = docLinkHtml;\n",
              "          element.appendChild(docLink);\n",
              "        }\n",
              "      </script>\n",
              "    </div>\n",
              "  </div>\n",
              "  "
            ]
          },
          "metadata": {},
          "execution_count": 6
        }
      ]
    },
    {
      "cell_type": "markdown",
      "source": [
        "## Removing NaNs and Duplicates\n"
      ],
      "metadata": {
        "id": "OJU4jVQF77c3"
      }
    },
    {
      "cell_type": "code",
      "source": [
        "print(\"NaNs in Column:\\n From\\t To\\n\",connections.From.isna().sum(),'\\t', connections.To.isna().sum()) # movies that didn't have three actors will have nans in permutation\n",
        "print('\\nSize:', connections.shape)"
      ],
      "metadata": {
        "colab": {
          "base_uri": "https://localhost:8080/"
        },
        "id": "TkUoFcWN3F32",
        "outputId": "e5b10328-efac-4385-9d43-197f73c75055"
      },
      "execution_count": null,
      "outputs": [
        {
          "output_type": "stream",
          "name": "stdout",
          "text": [
            "NaNs in Column:\n",
            " From\t To\n",
            " 384 \t 384\n",
            "\n",
            "Size: (24558, 2)\n"
          ]
        }
      ]
    },
    {
      "cell_type": "code",
      "source": [
        "connections.dropna(inplace=True)\n",
        "print('Size after removing NaNs', connections.shape)"
      ],
      "metadata": {
        "colab": {
          "base_uri": "https://localhost:8080/"
        },
        "id": "Si3--O8E3Mh9",
        "outputId": "ce350b3b-da12-4192-deec-4d3d3df41cb9"
      },
      "execution_count": null,
      "outputs": [
        {
          "output_type": "stream",
          "name": "stdout",
          "text": [
            "Size after removing NaNs (23790, 2)\n"
          ]
        }
      ]
    },
    {
      "cell_type": "markdown",
      "source": [
        "# Submission file for Kumu\n"
      ],
      "metadata": {
        "id": "dcnQ2jn57_bm"
      }
    },
    {
      "cell_type": "markdown",
      "source": [
        "### With Strength"
      ],
      "metadata": {
        "id": "aJwboRupCyWR"
      }
    },
    {
      "cell_type": "code",
      "source": [
        "connections_w_strength = connections.copy()\n",
        "connections_w_strength['Strength'] = np.ones(connections.shape[0])\n",
        "connections_w_strength = connections_w_strength\\\n",
        "                        .groupby(['From', 'To'])\\\n",
        "                        .sum()\\\n",
        "                        .reset_index()\\\n",
        "                        .sort_values('Strength', ascending=False)\n",
        "connections_w_strength.to_csv('connections_w_strength.csv', index=None, mode='x') # avoids overwriting the existing files\n",
        "connections_w_strength"
      ],
      "metadata": {
        "id": "OqMWghXX3eMG",
        "colab": {
          "base_uri": "https://localhost:8080/",
          "height": 424
        },
        "outputId": "2ea47145-6a8c-4040-bc0d-3dc562965531"
      },
      "execution_count": null,
      "outputs": [
        {
          "output_type": "execute_result",
          "data": {
            "text/plain": [
              "                From                  To  Strength\n",
              "8692    Kavita Joshi         Uttar Kumar      12.0\n",
              "21135    Uttar Kumar        Kavita Joshi      12.0\n",
              "21129    Uttar Kumar          Dev Sharma       7.0\n",
              "8623    Katrina Kaif        Akshay Kumar       7.0\n",
              "1148    Akshay Kumar        Katrina Kaif       7.0\n",
              "...              ...                 ...       ...\n",
              "7677   Jaya Bachchan             Om Puri       1.0\n",
              "7676   Jaya Bachchan    Mallika Sarabhai       1.0\n",
              "7675   Jaya Bachchan            Madhavan       1.0\n",
              "7674   Jaya Bachchan  Konkona Sen Sharma       1.0\n",
              "22535    Zulfi Sayed         Sonya Jehan       1.0\n",
              "\n",
              "[22536 rows x 3 columns]"
            ],
            "text/html": [
              "\n",
              "  <div id=\"df-07ee8eb5-f94a-46b2-8847-c156e3ebd3e6\">\n",
              "    <div class=\"colab-df-container\">\n",
              "      <div>\n",
              "<style scoped>\n",
              "    .dataframe tbody tr th:only-of-type {\n",
              "        vertical-align: middle;\n",
              "    }\n",
              "\n",
              "    .dataframe tbody tr th {\n",
              "        vertical-align: top;\n",
              "    }\n",
              "\n",
              "    .dataframe thead th {\n",
              "        text-align: right;\n",
              "    }\n",
              "</style>\n",
              "<table border=\"1\" class=\"dataframe\">\n",
              "  <thead>\n",
              "    <tr style=\"text-align: right;\">\n",
              "      <th></th>\n",
              "      <th>From</th>\n",
              "      <th>To</th>\n",
              "      <th>Strength</th>\n",
              "    </tr>\n",
              "  </thead>\n",
              "  <tbody>\n",
              "    <tr>\n",
              "      <th>8692</th>\n",
              "      <td>Kavita Joshi</td>\n",
              "      <td>Uttar Kumar</td>\n",
              "      <td>12.0</td>\n",
              "    </tr>\n",
              "    <tr>\n",
              "      <th>21135</th>\n",
              "      <td>Uttar Kumar</td>\n",
              "      <td>Kavita Joshi</td>\n",
              "      <td>12.0</td>\n",
              "    </tr>\n",
              "    <tr>\n",
              "      <th>21129</th>\n",
              "      <td>Uttar Kumar</td>\n",
              "      <td>Dev Sharma</td>\n",
              "      <td>7.0</td>\n",
              "    </tr>\n",
              "    <tr>\n",
              "      <th>8623</th>\n",
              "      <td>Katrina Kaif</td>\n",
              "      <td>Akshay Kumar</td>\n",
              "      <td>7.0</td>\n",
              "    </tr>\n",
              "    <tr>\n",
              "      <th>1148</th>\n",
              "      <td>Akshay Kumar</td>\n",
              "      <td>Katrina Kaif</td>\n",
              "      <td>7.0</td>\n",
              "    </tr>\n",
              "    <tr>\n",
              "      <th>...</th>\n",
              "      <td>...</td>\n",
              "      <td>...</td>\n",
              "      <td>...</td>\n",
              "    </tr>\n",
              "    <tr>\n",
              "      <th>7677</th>\n",
              "      <td>Jaya Bachchan</td>\n",
              "      <td>Om Puri</td>\n",
              "      <td>1.0</td>\n",
              "    </tr>\n",
              "    <tr>\n",
              "      <th>7676</th>\n",
              "      <td>Jaya Bachchan</td>\n",
              "      <td>Mallika Sarabhai</td>\n",
              "      <td>1.0</td>\n",
              "    </tr>\n",
              "    <tr>\n",
              "      <th>7675</th>\n",
              "      <td>Jaya Bachchan</td>\n",
              "      <td>Madhavan</td>\n",
              "      <td>1.0</td>\n",
              "    </tr>\n",
              "    <tr>\n",
              "      <th>7674</th>\n",
              "      <td>Jaya Bachchan</td>\n",
              "      <td>Konkona Sen Sharma</td>\n",
              "      <td>1.0</td>\n",
              "    </tr>\n",
              "    <tr>\n",
              "      <th>22535</th>\n",
              "      <td>Zulfi Sayed</td>\n",
              "      <td>Sonya Jehan</td>\n",
              "      <td>1.0</td>\n",
              "    </tr>\n",
              "  </tbody>\n",
              "</table>\n",
              "<p>22536 rows × 3 columns</p>\n",
              "</div>\n",
              "      <button class=\"colab-df-convert\" onclick=\"convertToInteractive('df-07ee8eb5-f94a-46b2-8847-c156e3ebd3e6')\"\n",
              "              title=\"Convert this dataframe to an interactive table.\"\n",
              "              style=\"display:none;\">\n",
              "        \n",
              "  <svg xmlns=\"http://www.w3.org/2000/svg\" height=\"24px\"viewBox=\"0 0 24 24\"\n",
              "       width=\"24px\">\n",
              "    <path d=\"M0 0h24v24H0V0z\" fill=\"none\"/>\n",
              "    <path d=\"M18.56 5.44l.94 2.06.94-2.06 2.06-.94-2.06-.94-.94-2.06-.94 2.06-2.06.94zm-11 1L8.5 8.5l.94-2.06 2.06-.94-2.06-.94L8.5 2.5l-.94 2.06-2.06.94zm10 10l.94 2.06.94-2.06 2.06-.94-2.06-.94-.94-2.06-.94 2.06-2.06.94z\"/><path d=\"M17.41 7.96l-1.37-1.37c-.4-.4-.92-.59-1.43-.59-.52 0-1.04.2-1.43.59L10.3 9.45l-7.72 7.72c-.78.78-.78 2.05 0 2.83L4 21.41c.39.39.9.59 1.41.59.51 0 1.02-.2 1.41-.59l7.78-7.78 2.81-2.81c.8-.78.8-2.07 0-2.86zM5.41 20L4 18.59l7.72-7.72 1.47 1.35L5.41 20z\"/>\n",
              "  </svg>\n",
              "      </button>\n",
              "      \n",
              "  <style>\n",
              "    .colab-df-container {\n",
              "      display:flex;\n",
              "      flex-wrap:wrap;\n",
              "      gap: 12px;\n",
              "    }\n",
              "\n",
              "    .colab-df-convert {\n",
              "      background-color: #E8F0FE;\n",
              "      border: none;\n",
              "      border-radius: 50%;\n",
              "      cursor: pointer;\n",
              "      display: none;\n",
              "      fill: #1967D2;\n",
              "      height: 32px;\n",
              "      padding: 0 0 0 0;\n",
              "      width: 32px;\n",
              "    }\n",
              "\n",
              "    .colab-df-convert:hover {\n",
              "      background-color: #E2EBFA;\n",
              "      box-shadow: 0px 1px 2px rgba(60, 64, 67, 0.3), 0px 1px 3px 1px rgba(60, 64, 67, 0.15);\n",
              "      fill: #174EA6;\n",
              "    }\n",
              "\n",
              "    [theme=dark] .colab-df-convert {\n",
              "      background-color: #3B4455;\n",
              "      fill: #D2E3FC;\n",
              "    }\n",
              "\n",
              "    [theme=dark] .colab-df-convert:hover {\n",
              "      background-color: #434B5C;\n",
              "      box-shadow: 0px 1px 3px 1px rgba(0, 0, 0, 0.15);\n",
              "      filter: drop-shadow(0px 1px 2px rgba(0, 0, 0, 0.3));\n",
              "      fill: #FFFFFF;\n",
              "    }\n",
              "  </style>\n",
              "\n",
              "      <script>\n",
              "        const buttonEl =\n",
              "          document.querySelector('#df-07ee8eb5-f94a-46b2-8847-c156e3ebd3e6 button.colab-df-convert');\n",
              "        buttonEl.style.display =\n",
              "          google.colab.kernel.accessAllowed ? 'block' : 'none';\n",
              "\n",
              "        async function convertToInteractive(key) {\n",
              "          const element = document.querySelector('#df-07ee8eb5-f94a-46b2-8847-c156e3ebd3e6');\n",
              "          const dataTable =\n",
              "            await google.colab.kernel.invokeFunction('convertToInteractive',\n",
              "                                                     [key], {});\n",
              "          if (!dataTable) return;\n",
              "\n",
              "          const docLinkHtml = 'Like what you see? Visit the ' +\n",
              "            '<a target=\"_blank\" href=https://colab.research.google.com/notebooks/data_table.ipynb>data table notebook</a>'\n",
              "            + ' to learn more about interactive tables.';\n",
              "          element.innerHTML = '';\n",
              "          dataTable['output_type'] = 'display_data';\n",
              "          await google.colab.output.renderOutput(dataTable, element);\n",
              "          const docLink = document.createElement('div');\n",
              "          docLink.innerHTML = docLinkHtml;\n",
              "          element.appendChild(docLink);\n",
              "        }\n",
              "      </script>\n",
              "    </div>\n",
              "  </div>\n",
              "  "
            ]
          },
          "metadata": {},
          "execution_count": 9
        }
      ]
    },
    {
      "cell_type": "markdown",
      "source": [
        "### Without Strength"
      ],
      "metadata": {
        "id": "POeynJVLDcTh"
      }
    },
    {
      "cell_type": "code",
      "source": [
        "connections.drop_duplicates(inplace=True)\n",
        "connections.to_csv('connections.csv', index=None, mode='x') # avoids overwriting the existing files"
      ],
      "metadata": {
        "id": "ElvgMNQDEFwg"
      },
      "execution_count": null,
      "outputs": []
    }
  ]
}